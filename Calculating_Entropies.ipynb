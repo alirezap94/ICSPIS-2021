{
 "cells": [
  {
   "cell_type": "code",
   "execution_count": 1,
   "metadata": {},
   "outputs": [],
   "source": [
    "import numpy as np\n",
    "import matplotlib.pyplot as plt \n",
    "import pandas as pd\n",
    "from itertools import permutations, product\n",
    "from scipy.stats import norm\n",
    "\n",
    "from scipy.integrate import odeint\n",
    "from scipy import signal "
   ]
  },
  {
   "cell_type": "markdown",
   "metadata": {},
   "source": [
    "# Initial Values"
   ]
  },
  {
   "cell_type": "code",
   "execution_count": 2,
   "metadata": {},
   "outputs": [],
   "source": [
    "path = 'Dataset'\n",
    "Monte = np.load(path + '/Monte.npy')"
   ]
  },
  {
   "cell_type": "markdown",
   "metadata": {},
   "source": [
    "# Loading Datasets"
   ]
  },
  {
   "cell_type": "code",
   "execution_count": 3,
   "metadata": {},
   "outputs": [],
   "source": [
    "lorenz_dataframe = pd.read_csv( path + '/lorenz_dataframe.csv')\n",
    "ARMA_dataframe = pd.read_csv( path + '/ARMA_dataframe.csv')\n",
    "WhiteNoise_dataframe = pd.read_csv( path + '/WhiteNoise_dataframe.csv')\n",
    "RandomWalk_dataframe = pd.read_csv( path + '/RandomWalk_dataframe.csv')\n",
    "Chirp_dataframe = pd.read_csv( path + '/Chirp_dataframe.csv')\n",
    "SineWave_dataframe = pd.read_csv( path + '/SineWave_dataframe.csv')"
   ]
  },
  {
   "cell_type": "code",
   "execution_count": 4,
   "metadata": {},
   "outputs": [],
   "source": [
    "time = lorenz_dataframe.to_numpy()[:,0]\n",
    "lorenz_time_series =(lorenz_dataframe.to_numpy()[:,1:]).T\n",
    "ARMA_time_series = (ARMA_dataframe.to_numpy()[:,1:]).T\n",
    "WhiteNoise_time_series = (WhiteNoise_dataframe.to_numpy()[:,1:]).T\n",
    "RandomWalk_time_series = (RandomWalk_dataframe.to_numpy()[:,1:]).T\n",
    "Chirp_time_series = (Chirp_dataframe.to_numpy()[:,1:]).T\n",
    "SineWave_time_series = (SineWave_dataframe.to_numpy()[:,1:]).T"
   ]
  },
  {
   "cell_type": "markdown",
   "metadata": {},
   "source": [
    "# Entropies"
   ]
  },
  {
   "cell_type": "code",
   "execution_count": 5,
   "metadata": {},
   "outputs": [],
   "source": [
    "def Permutation_Entropy(x, D = 3, tau = 1):\n",
    "    T = len(x)\n",
    "    col = T - (D-1)*tau \n",
    "    Pi = np.arange(D)\n",
    "    Number_of_occ = np.zeros(np.math.factorial(D))\n",
    "    for c in range(col):\n",
    "        sc = tuple(np.argsort(x[c:c+D]))\n",
    "        count = 0 \n",
    "        for p in permutations(Pi):\n",
    "            if p == sc:\n",
    "                Number_of_occ[count] += 1\n",
    "            count += 1   \n",
    "    pi = (Number_of_occ)/col\n",
    "    PE = -np.sum(pi*np.log2(pi+1e-10))\n",
    "    PE_norm = 1/np.log2(np.math.factorial(D))*PE\n",
    "    return PE_norm"
   ]
  },
  {
   "cell_type": "code",
   "execution_count": 6,
   "metadata": {},
   "outputs": [],
   "source": [
    "def ApEn(U, m = 3, r = 0.1): \n",
    "    def _maxdist(x_i, x_j):\n",
    "        return max([abs(ua - va) for ua, va in zip(x_i, x_j)])\n",
    "\n",
    "    def _phi(m):\n",
    "        x = [[U[j] for j in range(i, i + m - 1 + 1)] for i in range(N - m + 1)]\n",
    "        C = [\n",
    "            len([1 for x_j in x if _maxdist(x_i, x_j) <= r]) / (N - m + 1.0)\n",
    "            for x_i in x\n",
    "        ]\n",
    "        return (N - m + 1.0) ** (-1) * sum(np.log(np.array(C)+1e-15))\n",
    "\n",
    "    N = len(U)\n",
    "    AE = _phi(m) - _phi(m + 1)\n",
    "    return AE"
   ]
  },
  {
   "cell_type": "code",
   "execution_count": 7,
   "metadata": {},
   "outputs": [],
   "source": [
    "def SampEn(L, m = 3, r = 0.1):\n",
    "    N = len(L)\n",
    "    B = 0.0\n",
    "    A = 0.0\n",
    "\n",
    "    xmi = np.array([L[i : i + m] for i in range(N - m)])\n",
    "    xmj = np.array([L[i : i + m] for i in range(N - m + 1)])\n",
    "\n",
    "    B = np.sum([np.sum(np.abs(xmii - xmj).max(axis=1) <= r) - 1 for xmii in xmi])\n",
    "\n",
    "    m += 1\n",
    "    xm = np.array([L[i : i + m] for i in range(N - m + 1)])\n",
    "\n",
    "    A = np.sum([np.sum(np.abs(xmi - xm).max(axis=1) <= r) - 1 for xmi in xm])\n",
    "    SE = -np.log(A / B)\n",
    "    return SE"
   ]
  },
  {
   "cell_type": "code",
   "execution_count": 8,
   "metadata": {},
   "outputs": [],
   "source": [
    "def FuzzyEn(x, m = 3, n = 3, r = 0.1):\n",
    "    N = len(x)\n",
    "    xmi = np.zeros((N-m, m))\n",
    "    for i in range(N-m):\n",
    "        xmi[i] = x[i:i+m] - np.mean(x[i:i+m])\n",
    "\n",
    "    B = np.zeros((N-m, 1))\n",
    "    for j in range(N-m):\n",
    "        for i in range(N-m):\n",
    "            dm = np.max(np.abs(xmi[i] - xmi[j])) \n",
    "            D = np.exp(-dm**n/r)\n",
    "            B[i] += 1/(N-i-1)*np.sum(D)\n",
    "\n",
    "    phi_m = 1/(N-m)*np.sum(B) \n",
    "\n",
    "    m += 1\n",
    "    xm = np.zeros((N-m, m))\n",
    "    for i in range(N-m):\n",
    "        xm[i] = x[i:i+m] - np.mean(x[i:i+m])\n",
    "\n",
    "    B = np.zeros((N-m, 1))\n",
    "    for j in range(N-m):\n",
    "        for i in range(N-m):\n",
    "            dm = np.max(np.abs(xm[i] - xm[j])) \n",
    "            D = np.exp(-dm**n/r)\n",
    "            B[i] += 1/(N-i-1)*np.sum(D)\n",
    "\n",
    "    phi_m1 = 1/(N-m)*np.sum(B) \n",
    "    FE = np.log(phi_m) - np.log(phi_m1)\n",
    "    return FE"
   ]
  },
  {
   "cell_type": "code",
   "execution_count": 9,
   "metadata": {},
   "outputs": [],
   "source": [
    "def DistEn(x, m = 3, M = 250):\n",
    "    N = len(x)\n",
    "    \n",
    "    xm = np.zeros((N-m, m))\n",
    "    for i in range(N-m):\n",
    "        xm[i] = x[i:i+m]\n",
    "\n",
    "    D = np.zeros((N-m, N-m))\n",
    "    for j in range(N-m):\n",
    "        for i in range(N-m):\n",
    "            D[i,j] = np.max(np.abs(xm[i] - xm[j]))\n",
    "\n",
    "    d_vec = np.reshape(D, (-1,))\n",
    "    [occ, value] = np.histogram(d_vec, bins = 10)  \n",
    "    prob = occ / np.sum(occ)\n",
    "    DE = -np.sum(prob*np.log(prob+1e-15)/np.log(len(prob)))\n",
    "    return DE"
   ]
  },
  {
   "cell_type": "code",
   "execution_count": 10,
   "metadata": {},
   "outputs": [],
   "source": [
    "def Dispersion_Entropy(x, c = 3, D = 3, tau = 1):\n",
    "    y = norm.cdf(x ,loc = np.mean(x), scale = np.std(x))\n",
    "    z = np.round(c*y + 0.5)\n",
    "    T = len(x)\n",
    "    col = T - (D-1)*tau \n",
    "    Pi = np.arange(1, c+1)\n",
    "    Number_of_occ = np.zeros(c**D)\n",
    "    for c_i in range(col):\n",
    "        sc = tuple((z[c_i:c_i+D]))\n",
    "        count = 0 \n",
    "        for p in product(Pi,repeat = D):\n",
    "            if p == sc:\n",
    "                Number_of_occ[count] += 1\n",
    "            count += 1   \n",
    "    pi = (Number_of_occ)/col\n",
    "    DE = -np.sum(pi*np.log(pi+1e-10))\n",
    "    DE_norm = 1/np.log(c**D)*DE\n",
    "    return DE_norm"
   ]
  },
  {
   "cell_type": "code",
   "execution_count": 11,
   "metadata": {},
   "outputs": [],
   "source": [
    "def Entropy(time_series):\n",
    "    PeEn_val = Permutation_Entropy(time_series)\n",
    "    ApEn_val = ApEn(time_series)\n",
    "    SampEn_val = SampEn(time_series)\n",
    "    FuzzyEn_val = FuzzyEn(time_series)\n",
    "    DistEn_val = DistEn(time_series)\n",
    "    DispEn_val = Dispersion_Entropy(time_series)\n",
    "    return [PeEn_val, ApEn_val, SampEn_val, FuzzyEn_val, DistEn_val, DispEn_val]"
   ]
  },
  {
   "cell_type": "markdown",
   "metadata": {},
   "source": [
    "# Calculating Entropies"
   ]
  },
  {
   "cell_type": "code",
   "execution_count": 12,
   "metadata": {},
   "outputs": [],
   "source": [
    "lorenz_entropies = np.zeros((Monte, 6))\n",
    "for m in range(Monte):\n",
    "    lorenz_entropies[m] = Entropy(lorenz_time_series[m])\n",
    "    \n",
    "df = pd.DataFrame(lorenz_entropies, columns = ['PeEn', 'ApEn', 'SampEn', 'FuzzyEn', 'DistEn', 'DispEn'])\n",
    "df.to_csv(path + '/lorenz_entropies.csv', index=False)"
   ]
  },
  {
   "cell_type": "code",
   "execution_count": 13,
   "metadata": {},
   "outputs": [],
   "source": [
    "ARMA_entropies = np.zeros((Monte, 6))\n",
    "for m in range(Monte):\n",
    "    ARMA_entropies[m] = Entropy(ARMA_time_series[m])\n",
    "    \n",
    "df = pd.DataFrame(ARMA_entropies, columns = ['PeEn', 'ApEn', 'SampEn', 'FuzzyEn', 'DistEn', 'DispEn'])\n",
    "df.to_csv(path + '/ARMA_entropies.csv', index=False)"
   ]
  },
  {
   "cell_type": "code",
   "execution_count": 14,
   "metadata": {},
   "outputs": [],
   "source": [
    "WhiteNoise_entropies = np.zeros((Monte, 6))\n",
    "for m in range(Monte):\n",
    "    WhiteNoise_entropies[m] = Entropy(WhiteNoise_time_series[m])\n",
    "    \n",
    "df = pd.DataFrame(WhiteNoise_entropies, columns = ['PeEn', 'ApEn', 'SampEn', 'FuzzyEn', 'DistEn', 'DispEn'])\n",
    "df.to_csv(path + '/WhiteNoise_entropies.csv', index=False)"
   ]
  },
  {
   "cell_type": "code",
   "execution_count": 15,
   "metadata": {},
   "outputs": [],
   "source": [
    "RandomWalk_entropies = np.zeros((Monte, 6))\n",
    "for m in range(Monte):\n",
    "    RandomWalk_entropies[m] = Entropy(RandomWalk_time_series[m])\n",
    "    \n",
    "df = pd.DataFrame(RandomWalk_entropies, columns = ['PeEn', 'ApEn', 'SampEn', 'FuzzyEn', 'DistEn', 'DispEn'])\n",
    "df.to_csv(path + '/RandomWalk_entropies.csv', index=False)"
   ]
  },
  {
   "cell_type": "code",
   "execution_count": 16,
   "metadata": {},
   "outputs": [],
   "source": [
    "Chirp_entropies = np.zeros((Monte, 6))\n",
    "for m in range(Monte):\n",
    "    Chirp_entropies[m] = Entropy(Chirp_time_series[m])\n",
    "    \n",
    "df = pd.DataFrame(Chirp_entropies, columns = ['PeEn', 'ApEn', 'SampEn', 'FuzzyEn', 'DistEn', 'DispEn'])\n",
    "df.to_csv(path + '/Chirp_entropies.csv', index=False)"
   ]
  },
  {
   "cell_type": "code",
   "execution_count": 17,
   "metadata": {},
   "outputs": [],
   "source": [
    "SineWave_entropies = np.zeros((Monte, 6))\n",
    "for m in range(Monte):\n",
    "    SineWave_entropies[m] = Entropy(SineWave_time_series[m])\n",
    "    \n",
    "df = pd.DataFrame(SineWave_entropies, columns = ['PeEn', 'ApEn', 'SampEn', 'FuzzyEn', 'DistEn', 'DispEn'])\n",
    "df.to_csv(path + '/SineWave_entropies.csv', index=False)"
   ]
  }
 ],
 "metadata": {
  "kernelspec": {
   "display_name": "Python 3",
   "language": "python",
   "name": "python3"
  },
  "language_info": {
   "codemirror_mode": {
    "name": "ipython",
    "version": 3
   },
   "file_extension": ".py",
   "mimetype": "text/x-python",
   "name": "python",
   "nbconvert_exporter": "python",
   "pygments_lexer": "ipython3",
   "version": "3.8.5"
  }
 },
 "nbformat": 4,
 "nbformat_minor": 4
}
